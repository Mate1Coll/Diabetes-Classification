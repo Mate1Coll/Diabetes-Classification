{
 "cells": [
  {
   "cell_type": "markdown",
   "metadata": {},
   "source": [
    "In this notebook we perform the different classification tasks to determine which one is the best."
   ]
  },
  {
   "cell_type": "code",
   "execution_count": 2,
   "metadata": {},
   "outputs": [],
   "source": [
    "import pandas as pd\n",
    "import numpy as np\n",
    "import matplotlib.pyplot as plt"
   ]
  },
  {
   "cell_type": "markdown",
   "metadata": {},
   "source": [
    "# Metrics for Performance Evaluation"
   ]
  },
  {
   "cell_type": "code",
   "execution_count": null,
   "metadata": {},
   "outputs": [],
   "source": [
    "class Performance_metrics():\n",
    "\n",
    "    def __init__(self, y_actual, y_predicted):\n",
    "\n",
    "        self.y_actual = y_actual # df of actual class labels\n",
    "        self.y_predicted = y_predicted # df of predicted class labels\n",
    "\n",
    "        self.df_confusion = pd.crosstab(self.y_actual, self.y_predicted)\n",
    "        self.tp = self.df_confusion[1][1]\n",
    "        self.tn = self.df_confusion[0][0]\n",
    "        self.fp = self.df_confusion[0][1]\n",
    "        self.fn = self.df_confusion[1][0]\n",
    "        \n",
    "\n",
    "    def cost_matrix(self, ctp, ctn, cfp, cfn):\n",
    "\n",
    "        \"\"\"Cost of classifying instances of class j as class i.\n",
    "        Args:\n",
    "        ctp: cost of true positive\"\n",
    "        ctn: cost of true negative\"\"\n",
    "        cfp: cost of false positive\"\"\n",
    "        cfn: cost of false negative\"\"\n",
    "        \"\"\"\n",
    "\n",
    "        self.ctp = ctp\n",
    "        self.ctn = ctn\n",
    "        self.cfp = cfp\n",
    "        self.cfn = cfn\n",
    "\n",
    "        cost_matrix = np.array([[self.ctn, self.cfp], [self.cfn, self.ctp]])\n",
    "        return cost_matrix\n",
    "    \n",
    "    def accuracy(self):\n",
    "\n",
    "        \"\"\"Accuracy of the model.\n",
    "        \"\"\"\n",
    "        accuracy = (self.tp + self.tn) / (self.tp + self.tn + self.fp + self.fn)\n",
    "        return accuracy\n",
    "    \n",
    "    def cost(self):\n",
    "\n",
    "        \"\"\"Cost of the model.\n",
    "        \"\"\"\n",
    "        cost = (self.tp * self.ctp) + (self.tn * self.ctn) + (self.fp * self.cfp) + (self.fn * self.cfn)\n",
    "        return cost\n",
    "    \n",
    "    def precision(self):\n",
    "            \n",
    "        \"\"\"Precision of the model.\n",
    "        \"\"\"\n",
    "        precision = self.tp / (self.tp + self.fp)\n",
    "        return precision\n",
    "    \n",
    "    def recall(self):\n",
    "        \n",
    "        \"\"\"Recall of the model.\n",
    "        \"\"\"\n",
    "        recall = self.tp / (self.tp + self.fn)\n",
    "        return recall\n",
    "    \n",
    "    def f_measure(self):\n",
    "    \n",
    "        \"\"\"F-measure of the model.\n",
    "        \"\"\"\n",
    "\n",
    "        f_measure = 2*self.tp / (2*self.tp + self.fp + self.fn)\n",
    "        return f_measure\n",
    "    "
   ]
  },
  {
   "cell_type": "markdown",
   "metadata": {},
   "source": [
    "# Feature Selection"
   ]
  },
  {
   "cell_type": "code",
   "execution_count": null,
   "metadata": {},
   "outputs": [],
   "source": []
  }
 ],
 "metadata": {
  "kernelspec": {
   "display_name": ".venv",
   "language": "python",
   "name": "python3"
  },
  "language_info": {
   "codemirror_mode": {
    "name": "ipython",
    "version": 3
   },
   "file_extension": ".py",
   "mimetype": "text/x-python",
   "name": "python",
   "nbconvert_exporter": "python",
   "pygments_lexer": "ipython3",
   "version": "3.10.11"
  }
 },
 "nbformat": 4,
 "nbformat_minor": 2
}
